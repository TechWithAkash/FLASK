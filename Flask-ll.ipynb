{
 "cells": [
  {
   "cell_type": "markdown",
   "id": "ffb03fd5",
   "metadata": {},
   "source": [
    "1)Explain GET and POST methods"
   ]
  },
  {
   "cell_type": "raw",
   "id": "cc90e38a",
   "metadata": {},
   "source": [
    "==>>a)GET method:-\n",
    "GET is used to request data from a specified resource.\n",
    "The data sent by an 'GET' method it is an clearly visible to the user on URL.\n",
    "\n",
    "Some notes on GET requests:\n",
    "\n",
    "GET requests can be cached\n",
    "GET requests remain in the browser history\n",
    "GET requests can be bookmarked\n",
    "GET requests should never be used when dealing with sensitive data\n",
    "GET requests have length restrictions\n",
    "GET requests are only used to request data (not modify)\n",
    "\n",
    "b)POST method:=\n",
    "POST is used to send data to a server to create/update a resource.\n",
    "Sent data is not visible on the URL.\n",
    "POST is a little safer than GET because the parameters are not stored in browser history or in web server logs\n"
   ]
  },
  {
   "cell_type": "code",
   "execution_count": null,
   "id": "12f04792",
   "metadata": {},
   "outputs": [],
   "source": []
  },
  {
   "cell_type": "markdown",
   "id": "e3bce029",
   "metadata": {},
   "source": [
    "2)Why is request used in flask?"
   ]
  },
  {
   "cell_type": "markdown",
   "id": "b0299e0b",
   "metadata": {},
   "source": [
    "==>>The Request, in Flask, is an object that contains all the data sent from the Client to Server. This data can be recovered using the GET/POST Methods. POST is used when your application expects user input to be received by command or an HTTP request, while GET gets all the information before it even has a chance for submission."
   ]
  },
  {
   "cell_type": "code",
   "execution_count": null,
   "id": "8e2fbcd2",
   "metadata": {},
   "outputs": [],
   "source": []
  },
  {
   "cell_type": "markdown",
   "id": "003f77ef",
   "metadata": {},
   "source": [
    "3)Why is reddirect() used in flask?"
   ]
  },
  {
   "cell_type": "markdown",
   "id": "9c254cc8",
   "metadata": {},
   "source": [
    "==> A redirect is used in the Flask class to send the user to a particular URL with the status code. conversely, this status code additionally identifies the issue. When we access a website, our browser sends a request to the server, and the server replies with what is known as the HTTP status code, which is a three-digit number, The different reasons for errors are:\n",
    "\n",
    "Unauthorized access or poor request.\n",
    "Unsupported media file types.\n",
    "Overload of the backend server.\n",
    "Internal hardware/connection error."
   ]
  },
  {
   "cell_type": "code",
   "execution_count": null,
   "id": "21129453",
   "metadata": {},
   "outputs": [],
   "source": []
  },
  {
   "cell_type": "markdown",
   "id": "d38725d8",
   "metadata": {},
   "source": [
    "4) What are templates in Flask? Why is the render_template() function used?"
   ]
  },
  {
   "cell_type": "markdown",
   "id": "c555115a",
   "metadata": {},
   "source": [
    "==>Templates are the basically a html file in flask.render_template is a Flask function from the flask. templating package. render_template is used to generate output from a template file based on the Jinja2 engine that is found in the application's templates folder. Note that render_template is typically imported directly from the flask package instead of from flask."
   ]
  },
  {
   "cell_type": "code",
   "execution_count": null,
   "id": "921af7fb",
   "metadata": {},
   "outputs": [],
   "source": []
  },
  {
   "cell_type": "markdown",
   "id": "122ee5b6",
   "metadata": {},
   "source": [
    "5) Create a simple API. Use Postman to test it. Attach the screenshot of the output in the Jupyter Notebook."
   ]
  },
  {
   "cell_type": "markdown",
   "id": "b9b5133a",
   "metadata": {},
   "source": [
    "##HTML CODE\n",
    "<!DOCTYPE html>\n",
    "<html lang=\"en\">\n",
    "<head>\n",
    "    <meta charset=\"UTF-8\">\n",
    "    <meta name=\"viewport\" content=\"width=device-width, initial-scale=1.0\">\n",
    "    \n",
    "    <title>calculator</title>\n",
    "    <link rel =\"stylesheet\" href=\"/static/css/style.css\">\n",
    "</head>\n",
    "<body background-color=\"blue\">\n",
    "    <div class=\"content\">\n",
    "        <h1 text-align=\"center\">Calculation is : </h1><br>\n",
    "        \n",
    "\n",
    "        <div class=\"form\">\n",
    "            <form action=\"/math\" method=\"post\">\n",
    "                <label for =\"Choose your Calcultion  Operation\"></label>\n",
    "\n",
    "                <select id=\"operation\" name=\"operation\">\n",
    "                    <option value=\"add\">add</option>\n",
    "                    <option value=\"Substraction\">Substract</option>\n",
    "                    <option value=\"Multiply\">Multiply</option>\n",
    "                    <option value=\"Divide\">Divide</option>\n",
    "\n",
    "                </select>\n",
    "\n",
    "                <input type=\"text\" name=\"num1\" id=\"num1\">\n",
    "                \n",
    "                <input type=\"text\" name=\"num2\" id=\"num2\">\n",
    "\n",
    "                <input type=\"submit\" name=\"submit\" value=\"calculate\">\n",
    "\n",
    "            </form>\n",
    "        </div>\n",
    "\n",
    "    </div>\n",
    "    \n",
    "</body>\n",
    "</html>"
   ]
  },
  {
   "cell_type": "markdown",
   "id": "844a55cf",
   "metadata": {},
   "source": [
    "*********************RESULT.html****************************\n",
    "\n",
    "<!DOCTYPE html>\n",
    "<html lang=\"en\">\n",
    "<head>\n",
    "    <meta charset=\"UTF-8\">\n",
    "    <meta name=\"viewport\" content=\"width=<device-width>, initial-scale=1.0\">\n",
    "    <title>Review page</title>\n",
    "</head>\n",
    "<body>\n",
    "    <div class =\"table-users\">\n",
    "        <div class=\"header\"><h1>Calculation Result :</h1> </div><br>\n",
    "    <h3>  {{result}}   </h3>\n",
    "\n",
    "    </div>\n",
    "</body>\n",
    "</html>"
   ]
  },
  {
   "cell_type": "code",
   "execution_count": 10,
   "id": "1f1b06d9",
   "metadata": {},
   "outputs": [
    {
     "data": {
      "text/html": [
       "<img src=\"flask_code.png\" width=\"1000\" height=\"1000\"/>"
      ],
      "text/plain": [
       "<IPython.core.display.Image object>"
      ]
     },
     "execution_count": 10,
     "metadata": {},
     "output_type": "execute_result"
    }
   ],
   "source": [
    "#**************FLASK CODE*************************\n",
    "from IPython.display import Image\n",
    "  \n",
    "# get the image\n",
    "Image(url=\"flask_code.png\", width=1000, height=1000)"
   ]
  },
  {
   "cell_type": "code",
   "execution_count": 13,
   "id": "5403f1c7",
   "metadata": {},
   "outputs": [
    {
     "data": {
      "text/html": [
       "<img src=\"api_testing.png\" width=\"1000\" height=\"1000\"/>"
      ],
      "text/plain": [
       "<IPython.core.display.Image object>"
      ]
     },
     "execution_count": 13,
     "metadata": {},
     "output_type": "execute_result"
    }
   ],
   "source": [
    "#*****************************POSTMAN TESTING*********************\n",
    "from IPython.display import Image\n",
    "  \n",
    "# get the image\n",
    "Image(url=\"api_testing.png\", width=1000, height=1000)"
   ]
  },
  {
   "cell_type": "code",
   "execution_count": null,
   "id": "cf381d42",
   "metadata": {},
   "outputs": [],
   "source": []
  }
 ],
 "metadata": {
  "kernelspec": {
   "display_name": "Python 3 (ipykernel)",
   "language": "python",
   "name": "python3"
  },
  "language_info": {
   "codemirror_mode": {
    "name": "ipython",
    "version": 3
   },
   "file_extension": ".py",
   "mimetype": "text/x-python",
   "name": "python",
   "nbconvert_exporter": "python",
   "pygments_lexer": "ipython3",
   "version": "3.10.9"
  }
 },
 "nbformat": 4,
 "nbformat_minor": 5
}
